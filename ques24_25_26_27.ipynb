{
  "nbformat": 4,
  "nbformat_minor": 0,
  "metadata": {
    "colab": {
      "provenance": [],
      "mount_file_id": "1BlfwYUpe8Ku5Zu9H6jwcg7tUBRJ43bet",
      "authorship_tag": "ABX9TyMR0qB9LmB1mLUr10FV7RfP",
      "include_colab_link": true
    },
    "kernelspec": {
      "name": "python3",
      "display_name": "Python 3"
    },
    "language_info": {
      "name": "python"
    }
  },
  "cells": [
    {
      "cell_type": "markdown",
      "metadata": {
        "id": "view-in-github",
        "colab_type": "text"
      },
      "source": [
        "<a href=\"https://colab.research.google.com/github/riddhikaa/pyml_assignment1/blob/main/ques24_25_26_27.ipynb\" target=\"_parent\"><img src=\"https://colab.research.google.com/assets/colab-badge.svg\" alt=\"Open In Colab\"/></a>"
      ]
    },
    {
      "cell_type": "code",
      "source": [
        "# program that acts as a simple calculator ::  operator: The operator to use (+, -, *, /).\n",
        "\n",
        "def calculator(num1, num2, operator):\n",
        "  if operator == '+':\n",
        "    return num1 + num2\n",
        "  elif operator == '-':\n",
        "    return num1 - num2\n",
        "  elif operator == '*':\n",
        "    return num1 * num2\n",
        "  elif operator == '/':\n",
        "    if num2 == 0:\n",
        "      return \"Error: Division by zero\"\n",
        "    else:\n",
        "      return num1 / num2\n",
        "  else:\n",
        "    return \"Error: Invalid operator\"\n",
        "\n",
        "num1 = float(input(\"Enter the first number: \"))\n",
        "num2 = float(input(\"Enter the second number: \"))\n",
        "operator = input(\"Enter the operator (+, -, *, /): \")\n",
        "\n",
        "\n",
        "result = calculator(num1, num2, operator)\n",
        "print(f\"Result: {result}\")"
      ],
      "metadata": {
        "colab": {
          "base_uri": "https://localhost:8080/"
        },
        "id": "8lihFG5WuVxt",
        "outputId": "b049fa9e-78da-414c-ee94-a4cf39ec46d2"
      },
      "execution_count": 4,
      "outputs": [
        {
          "output_type": "stream",
          "name": "stdout",
          "text": [
            "Enter the first number: 35\n",
            "Enter the second number: 453\n",
            "Enter the operator (+, -, *, /): *\n",
            "Result: 15855.0\n"
          ]
        }
      ]
    },
    {
      "cell_type": "code",
      "source": [
        "# program that copies content of one text file to another\n",
        "from google.colab import files\n",
        "\n",
        "def copy_file_contents(source_file, destination_file):\n",
        "    try:\n",
        "        uploaded = files.upload()\n",
        "        content = uploaded[source_file].decode('utf-8')  # Read content from uploaded file\n",
        "        with open(destination_file, 'w') as destination:   # Writing content to the destination file\n",
        "            destination.write(content)\n",
        "\n",
        "        print(\"File copied successfully.\")\n",
        "    except KeyError:\n",
        "        print(\"Source file not found in the uploaded files.\")\n",
        "\n",
        "\n",
        "print(\"Please upload the source file:\")\n",
        "source_file = next(iter(files.upload()))\n",
        "\n",
        "\n",
        "destination_file = input(\"Enter the name of the destination file in Colab (e.g., 'output.txt'): \")\n",
        "\n",
        "# Copy the contents of the source file to the destination file\n",
        "copy_file_contents(source_file, destination_file)"
      ],
      "metadata": {
        "id": "xLrrjrjBr8X-"
      },
      "execution_count": null,
      "outputs": []
    },
    {
      "cell_type": "code",
      "source": [
        "#program that checks if a string starts with a given prefix or ends with a given suffix\n",
        "def check_prefix_suffix(text, prefix, suffix):\n",
        "  if text.startswith(prefix):\n",
        "    print(\"String starts with the given prefix.\")\n",
        "  else:\n",
        "    print(\"String does not start with the given prefix.\")\n",
        "\n",
        "  if text.endswith(suffix):\n",
        "    print(\"String ends with the given suffix.\")\n",
        "  else:\n",
        "    print(\"String does not end with the given suffix.\")\n",
        "\n",
        "input_string = input(\"Enter a string: \")\n",
        "input_prefix = input(\"Enter a prefix: \")\n",
        "input_suffix = input(\"Enter a suffix: \")\n",
        "\n",
        "check_prefix_suffix(input_string, input_prefix, input_suffix)"
      ],
      "metadata": {
        "colab": {
          "base_uri": "https://localhost:8080/"
        },
        "id": "ujZdXZPInMxc",
        "outputId": "0a1f8d81-87dd-47f8-ab5d-4b12937450f4"
      },
      "execution_count": 2,
      "outputs": [
        {
          "output_type": "stream",
          "name": "stdout",
          "text": [
            "Enter a string: maao maao\n",
            "Enter a prefix: maao\n",
            "Enter a suffix: u3heu\n",
            "String starts with the given prefix.\n",
            "String does not end with the given suffix.\n"
          ]
        }
      ]
    },
    {
      "cell_type": "code",
      "source": [
        "# program that converts a string into a list of its characters\n",
        "def string_to_list(text):\n",
        "  return list(text)\n",
        "\n",
        "input_string = input(\"Enter a string: \")\n",
        "result = string_to_list(input_string)\n",
        "print(result)"
      ],
      "metadata": {
        "colab": {
          "base_uri": "https://localhost:8080/"
        },
        "id": "8dyR6LIbtXOv",
        "outputId": "0375d21a-7ee4-4043-c134-a6b96d52f813"
      },
      "execution_count": 3,
      "outputs": [
        {
          "output_type": "stream",
          "name": "stdout",
          "text": [
            "Enter a string: heuwuef fwheufwe\n",
            "['h', 'e', 'u', 'w', 'u', 'e', 'f', ' ', 'f', 'w', 'h', 'e', 'u', 'f', 'w', 'e']\n"
          ]
        }
      ]
    }
  ]
}