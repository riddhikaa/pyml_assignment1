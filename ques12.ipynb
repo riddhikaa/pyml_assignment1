{
  "nbformat": 4,
  "nbformat_minor": 0,
  "metadata": {
    "colab": {
      "provenance": [],
      "authorship_tag": "ABX9TyPcfZN0Mrx89kwQmCVvcMck",
      "include_colab_link": true
    },
    "kernelspec": {
      "name": "python3",
      "display_name": "Python 3"
    },
    "language_info": {
      "name": "python"
    }
  },
  "cells": [
    {
      "cell_type": "markdown",
      "metadata": {
        "id": "view-in-github",
        "colab_type": "text"
      },
      "source": [
        "<a href=\"https://colab.research.google.com/github/riddhikaa/pyml_assignment1/blob/main/ques12.ipynb\" target=\"_parent\"><img src=\"https://colab.research.google.com/assets/colab-badge.svg\" alt=\"Open In Colab\"/></a>"
      ]
    },
    {
      "cell_type": "code",
      "execution_count": 28,
      "metadata": {
        "colab": {
          "base_uri": "https://localhost:8080/"
        },
        "id": "oI_8HiGIoFsy",
        "outputId": "b35ea601-17ae-43f1-c2a3-e2b1542fd8a9"
      },
      "outputs": [
        {
          "output_type": "stream",
          "name": "stdout",
          "text": [
            "enter a number jiske digits ka sum karna chahte ho 562832385746489\n",
            "80\n"
          ]
        }
      ],
      "source": [
        "# program that calculates sum of digits of a given number\n",
        "'''\n",
        "approach :\n",
        "initialise sum as 0\n",
        "num%10 will help is extract last digit of number as anything divided by 10 will give remainder equal to last digit of quotient\n",
        "then add that digit to sum\n",
        "then num//10 will remove last digit by floor division\n",
        "\n",
        "and this will be done jabtak num is +ve\n",
        "'''\n",
        "def sum_of_dig(num):\n",
        "  sum=0\n",
        "  while num>0:\n",
        "    digits=num%10\n",
        "    sum=sum+digits\n",
        "    num=num//10\n",
        "  return sum\n",
        "\n",
        "n=int(input(\"enter a number jiske digits ka sum karna chahte ho \"))\n",
        "print(sum_of_dig(n))\n",
        "\n",
        "\n"
      ]
    }
  ]
}