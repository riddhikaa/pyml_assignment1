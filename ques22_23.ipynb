{
  "nbformat": 4,
  "nbformat_minor": 0,
  "metadata": {
    "colab": {
      "provenance": [],
      "authorship_tag": "ABX9TyPRO2/6LSnS+IJzHgUXTx3F",
      "include_colab_link": true
    },
    "kernelspec": {
      "name": "python3",
      "display_name": "Python 3"
    },
    "language_info": {
      "name": "python"
    }
  },
  "cells": [
    {
      "cell_type": "markdown",
      "metadata": {
        "id": "view-in-github",
        "colab_type": "text"
      },
      "source": [
        "<a href=\"https://colab.research.google.com/github/riddhikaa/pyml_assignment1/blob/main/ques22_23.ipynb\" target=\"_parent\"><img src=\"https://colab.research.google.com/assets/colab-badge.svg\" alt=\"Open In Colab\"/></a>"
      ]
    },
    {
      "cell_type": "code",
      "source": [
        "# program that returns minimum and maximum numbers from a list of numbers\n",
        "list=[1,2,46,35,34,7,6,3,2,75,3,1,6,9]\n",
        "list.sort()\n",
        "print(f\"maximum number in the list is: {list[-1]} \")\n",
        "print(f\"minimum number in the list is: {list[0]} \")\n"
      ],
      "metadata": {
        "colab": {
          "base_uri": "https://localhost:8080/"
        },
        "id": "O8_CqnC-j_lT",
        "outputId": "0bea58ed-df3a-47b8-931f-a8cee1fed38f"
      },
      "execution_count": 13,
      "outputs": [
        {
          "output_type": "stream",
          "name": "stdout",
          "text": [
            "maximum number in the list is: 75 \n",
            "minimum number in the list is: 1 \n"
          ]
        }
      ]
    },
    {
      "cell_type": "code",
      "source": [
        "# program to convert temperature form celsius to farhenheit and vice versa\n",
        "degree=input(\"enter 'c' to convert from celsius to farenheit and enter 'f' to convert from farhenheit to celsius: \" )\n",
        "temp=int(input(\"enter temperature : \"))\n",
        "\n",
        "if degree=='f':\n",
        "  temp_in_C=(temp-32)*5/9\n",
        "  print(f\"temperature is {temp_in_C} degree celsius\")\n",
        "else:\n",
        "  temp_in_F=(temp*1.8)+32\n",
        "  print(f\"temperature is {temp_in_F} degree Farhenheit\")"
      ],
      "metadata": {
        "colab": {
          "base_uri": "https://localhost:8080/"
        },
        "id": "ujZdXZPInMxc",
        "outputId": "fd7552c3-a27c-40cf-8c41-129ec410de23"
      },
      "execution_count": 18,
      "outputs": [
        {
          "output_type": "stream",
          "name": "stdout",
          "text": [
            "enter 'c' to convert from celsius to farenheit and enter 'f' to convert from farhenheit to celsius: c\n",
            "enter temperature : 37\n",
            "temperature is 98.60000000000001 degree Farhenheit\n"
          ]
        }
      ]
    }
  ]
}