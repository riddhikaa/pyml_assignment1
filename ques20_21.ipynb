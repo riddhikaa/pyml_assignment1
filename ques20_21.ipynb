{
  "nbformat": 4,
  "nbformat_minor": 0,
  "metadata": {
    "colab": {
      "provenance": [],
      "authorship_tag": "ABX9TyNqqDSvtrKVtAfL7s3TZXhi",
      "include_colab_link": true
    },
    "kernelspec": {
      "name": "python3",
      "display_name": "Python 3"
    },
    "language_info": {
      "name": "python"
    }
  },
  "cells": [
    {
      "cell_type": "markdown",
      "metadata": {
        "id": "view-in-github",
        "colab_type": "text"
      },
      "source": [
        "<a href=\"https://colab.research.google.com/github/riddhikaa/pyml_assignment1/blob/main/ques20_21.ipynb\" target=\"_parent\"><img src=\"https://colab.research.google.com/assets/colab-badge.svg\" alt=\"Open In Colab\"/></a>"
      ]
    },
    {
      "cell_type": "code",
      "execution_count": 8,
      "metadata": {
        "colab": {
          "base_uri": "https://localhost:8080/"
        },
        "id": "Zqe0weBSaLMY",
        "outputId": "4dc0596e-150e-4c88-e92e-ffbfc75e2948"
      },
      "outputs": [
        {
          "output_type": "stream",
          "name": "stdout",
          "text": [
            "Enter numbers separated by space: 1 3  5 3 8 4 8 4 2  8\n",
            "The sum of the numbers is: 46\n"
          ]
        }
      ],
      "source": [
        "# program that takes a list of numbers and returns their sum\n",
        "\n",
        "numbers=[]\n",
        "input_numbers=input(\"Enter numbers separated by space: \")\n",
        "numbers=input_numbers.split()\n",
        "sum=0\n",
        "for i in numbers:\n",
        "  sum=sum+int(i)\n",
        "print(f\"The sum of the numbers is: {sum}\")"
      ]
    },
    {
      "cell_type": "code",
      "source": [
        "# program that counts the occurrence of a specific element in a list\n",
        "elements =input(\"Enter elements separated by space: \")\n",
        "elements_list= elements.split()\n",
        "target= input(\"Enter the specific element to count: \")\n",
        "count=0\n",
        "\n",
        "for element in elements_list:\n",
        "  if element == target:\n",
        "   count += 1\n",
        "print(f\"The element '{target}' occurs {count} times in the list.\")"
      ],
      "metadata": {
        "colab": {
          "base_uri": "https://localhost:8080/"
        },
        "id": "O8_CqnC-j_lT",
        "outputId": "843a32fd-e7c3-4b6e-bea2-01321034622a"
      },
      "execution_count": 11,
      "outputs": [
        {
          "output_type": "stream",
          "name": "stdout",
          "text": [
            "Enter elements separated by space: huwuw huwuw huwuw hwuww hwuwu\n",
            "Enter the specific element to count: huwuw\n",
            "The element 'huwuw' occurs 3 times in the list.\n"
          ]
        }
      ]
    }
  ]
}