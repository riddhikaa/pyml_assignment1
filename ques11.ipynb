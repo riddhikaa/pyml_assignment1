{
  "nbformat": 4,
  "nbformat_minor": 0,
  "metadata": {
    "colab": {
      "provenance": [],
      "authorship_tag": "ABX9TyMYH3WxD2OgBjLZha+i5CwH",
      "include_colab_link": true
    },
    "kernelspec": {
      "name": "python3",
      "display_name": "Python 3"
    },
    "language_info": {
      "name": "python"
    }
  },
  "cells": [
    {
      "cell_type": "markdown",
      "metadata": {
        "id": "view-in-github",
        "colab_type": "text"
      },
      "source": [
        "<a href=\"https://colab.research.google.com/github/riddhikaa/pyml_assignment1/blob/main/ques11.ipynb\" target=\"_parent\"><img src=\"https://colab.research.google.com/assets/colab-badge.svg\" alt=\"Open In Colab\"/></a>"
      ]
    },
    {
      "cell_type": "code",
      "execution_count": 21,
      "metadata": {
        "colab": {
          "base_uri": "https://localhost:8080/"
        },
        "id": "oI_8HiGIoFsy",
        "outputId": "d007a70b-4a74-4786-9401-4363cad6e15b"
      },
      "outputs": [
        {
          "output_type": "stream",
          "name": "stdout",
          "text": [
            "Enter the number of Fibonacci numbers to generate: 6\n",
            "[0, 1, 1, 2, 3, 5]\n"
          ]
        }
      ],
      "source": [
        "# program that generates the first n numbers in fibonacci sequence\n",
        "\n",
        "'''\n",
        "fibonacci seq = 0 1 1 2 3 5 8 13 21...\n",
        "-> next num is sum of previous 2 elements\n",
        "this program will return a list of n fibonacci numbers\n",
        "\n",
        "'''\n",
        "def fibo(x):\n",
        "  if x <= 0:\n",
        "        return []\n",
        "  elif x == 1:\n",
        "        return [0]\n",
        "  elif x == 2:\n",
        "        return [0, 1]\n",
        "  fibonacci_sequence = [0, 1] # initial elements of series\n",
        "  for i in range(2, x):\n",
        "          next_number = fibonacci_sequence[-1] + fibonacci_sequence[-2]\n",
        "          fibonacci_sequence.append(next_number)\n",
        "\n",
        "  return fibonacci_sequence\n",
        "\n",
        "n = int(input(\"Enter the number of Fibonacci numbers to generate: \"))\n",
        "print(fibo(n))\n",
        "\n"
      ]
    }
  ]
}