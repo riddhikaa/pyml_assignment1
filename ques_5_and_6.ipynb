{
  "nbformat": 4,
  "nbformat_minor": 0,
  "metadata": {
    "colab": {
      "provenance": [],
      "authorship_tag": "ABX9TyMBUZUp6XfC6SRl43KVs3Yo",
      "include_colab_link": true
    },
    "kernelspec": {
      "name": "python3",
      "display_name": "Python 3"
    },
    "language_info": {
      "name": "python"
    }
  },
  "cells": [
    {
      "cell_type": "markdown",
      "metadata": {
        "id": "view-in-github",
        "colab_type": "text"
      },
      "source": [
        "<a href=\"https://colab.research.google.com/github/riddhikaa/pyml_assignment1/blob/main/ques_5_and_6.ipynb\" target=\"_parent\"><img src=\"https://colab.research.google.com/assets/colab-badge.svg\" alt=\"Open In Colab\"/></a>"
      ]
    },
    {
      "cell_type": "code",
      "execution_count": 12,
      "metadata": {
        "colab": {
          "base_uri": "https://localhost:8080/"
        },
        "id": "oI_8HiGIoFsy",
        "outputId": "9ab5fea7-ecfb-4bfd-bfc9-a67f388095f8"
      },
      "outputs": [
        {
          "output_type": "stream",
          "name": "stdout",
          "text": [
            "enter something to written in text file: helloo , i am writing here. i feel hungry \n",
            "Contents of the file:\n",
            "helloo , i am writing here. i feel hungry \n"
          ]
        }
      ],
      "source": [
        "#ques5: program that takes a string as input and writes it in a text file\n",
        "#ques6: program that reads the content from a text file and prints it in the console\n",
        "straang=input(\"enter something to written in text file: \")\n",
        "file_name = \"pythonwala.txt\"\n",
        "with open(file_name, \"w\") as file:\n",
        "        file.write(straang)\n",
        "# verifying\n",
        "with open(\"pythonwala.txt\", 'r') as file:\n",
        "    content = file.read()\n",
        "    print(\"Contents of the file:\")\n",
        "    print(content)"
      ]
    }
  ]
}