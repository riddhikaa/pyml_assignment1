{
  "nbformat": 4,
  "nbformat_minor": 0,
  "metadata": {
    "colab": {
      "provenance": [],
      "authorship_tag": "ABX9TyO6Fbo1LyJcXJDFkpMflmJ+",
      "include_colab_link": true
    },
    "kernelspec": {
      "name": "python3",
      "display_name": "Python 3"
    },
    "language_info": {
      "name": "python"
    }
  },
  "cells": [
    {
      "cell_type": "markdown",
      "metadata": {
        "id": "view-in-github",
        "colab_type": "text"
      },
      "source": [
        "<a href=\"https://colab.research.google.com/github/riddhikaa/pyml_assignment1/blob/main/ques2.ipynb\" target=\"_parent\"><img src=\"https://colab.research.google.com/assets/colab-badge.svg\" alt=\"Open In Colab\"/></a>"
      ]
    },
    {
      "cell_type": "code",
      "execution_count": 4,
      "metadata": {
        "colab": {
          "base_uri": "https://localhost:8080/"
        },
        "id": "oI_8HiGIoFsy",
        "outputId": "1980de12-6aa5-4860-cd24-f142aa0f756b"
      },
      "outputs": [
        {
          "output_type": "stream",
          "name": "stdout",
          "text": [
            "enter a number: 45\n",
            " the given number is odd\n"
          ]
        }
      ],
      "source": [
        "#program that checks whether a given number is even or odd\n",
        "a=int(input(\"enter a number: \"))\n",
        "if a%2==0:\n",
        "  print(\" given number is even \")\n",
        "else:\n",
        "    print(\" the given number is odd\")"
      ]
    },
    {
      "cell_type": "code",
      "source": [],
      "metadata": {
        "id": "qVG217lgq7xh"
      },
      "execution_count": null,
      "outputs": []
    }
  ]
}