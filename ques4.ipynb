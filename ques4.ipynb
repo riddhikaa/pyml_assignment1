{
  "nbformat": 4,
  "nbformat_minor": 0,
  "metadata": {
    "colab": {
      "provenance": [],
      "authorship_tag": "ABX9TyO+fiqLWWoXzHhvw6I1mFCR",
      "include_colab_link": true
    },
    "kernelspec": {
      "name": "python3",
      "display_name": "Python 3"
    },
    "language_info": {
      "name": "python"
    }
  },
  "cells": [
    {
      "cell_type": "markdown",
      "metadata": {
        "id": "view-in-github",
        "colab_type": "text"
      },
      "source": [
        "<a href=\"https://colab.research.google.com/github/riddhikaa/pyml_assignment1/blob/main/ques4.ipynb\" target=\"_parent\"><img src=\"https://colab.research.google.com/assets/colab-badge.svg\" alt=\"Open In Colab\"/></a>"
      ]
    },
    {
      "cell_type": "code",
      "execution_count": 8,
      "metadata": {
        "colab": {
          "base_uri": "https://localhost:8080/"
        },
        "id": "oI_8HiGIoFsy",
        "outputId": "cd5ff09f-95ac-4b89-a5df-1cd81f0020bd"
      },
      "outputs": [
        {
          "output_type": "stream",
          "name": "stdout",
          "text": [
            "what is your name? eren jaeger\n",
            "Greetings eren jaeger, how are you doing ?\n"
          ]
        }
      ],
      "source": [
        "#program that asks user its name and prints a greeting message\n",
        "a=input(\"what is your name? \")\n",
        "print(f\"Greetings {a}, how are you doing ?\")"
      ]
    }
  ]
}