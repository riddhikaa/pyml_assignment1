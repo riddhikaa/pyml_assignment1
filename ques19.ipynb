{
  "nbformat": 4,
  "nbformat_minor": 0,
  "metadata": {
    "colab": {
      "provenance": [],
      "authorship_tag": "ABX9TyMS2Ca/tbbbvk7691b4oorU",
      "include_colab_link": true
    },
    "kernelspec": {
      "name": "python3",
      "display_name": "Python 3"
    },
    "language_info": {
      "name": "python"
    }
  },
  "cells": [
    {
      "cell_type": "markdown",
      "metadata": {
        "id": "view-in-github",
        "colab_type": "text"
      },
      "source": [
        "<a href=\"https://colab.research.google.com/github/riddhikaa/pyml_assignment1/blob/main/ques19.ipynb\" target=\"_parent\"><img src=\"https://colab.research.google.com/assets/colab-badge.svg\" alt=\"Open In Colab\"/></a>"
      ]
    },
    {
      "cell_type": "code",
      "execution_count": 7,
      "metadata": {
        "colab": {
          "base_uri": "https://localhost:8080/"
        },
        "id": "Zqe0weBSaLMY",
        "outputId": "111f06ca-1e52-43b1-ee0e-1d173fb4201c"
      },
      "outputs": [
        {
          "output_type": "stream",
          "name": "stdout",
          "text": [
            "enter a string: hi, this is something new that i learnt. i feel happy !!  paisa hi paisa $$\n",
            "hi this is something new that i learnt i feel happy   paisa hi paisa \n"
          ]
        }
      ],
      "source": [
        "# program that removes all punctuations in a given string\n",
        "'''\n",
        "this is achieved by using translate() and maketans() functions\n",
        "maketrans() syntax:\n",
        "  str.maketrans(x,y,z)\n",
        "  x: A string specifying the characters to be replaced.\n",
        "  y: A string specifying the characters to replace with (must be of the same length as x).\n",
        "  z: A string specifying the characters to be deleted\n",
        "translate() does not modify the original string rather it returns a string\n",
        "'''\n",
        "import string\n",
        "a=input(\"enter a string: \")\n",
        "translator_parameter=a.maketrans(\"\",\"\",string.punctuation)\n",
        "new_str=a.translate(translator_parameter)\n",
        "print(new_str)"
      ]
    }
  ]
}