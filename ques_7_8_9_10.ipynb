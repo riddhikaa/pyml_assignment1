{
  "nbformat": 4,
  "nbformat_minor": 0,
  "metadata": {
    "colab": {
      "provenance": [],
      "authorship_tag": "ABX9TyOsa2IV8KQl3uenKA7djknp",
      "include_colab_link": true
    },
    "kernelspec": {
      "name": "python3",
      "display_name": "Python 3"
    },
    "language_info": {
      "name": "python"
    }
  },
  "cells": [
    {
      "cell_type": "markdown",
      "metadata": {
        "id": "view-in-github",
        "colab_type": "text"
      },
      "source": [
        "<a href=\"https://colab.research.google.com/github/riddhikaa/pyml_assignment1/blob/main/ques_7_8_9_10.ipynb\" target=\"_parent\"><img src=\"https://colab.research.google.com/assets/colab-badge.svg\" alt=\"Open In Colab\"/></a>"
      ]
    },
    {
      "cell_type": "code",
      "execution_count": 13,
      "metadata": {
        "colab": {
          "base_uri": "https://localhost:8080/"
        },
        "id": "oI_8HiGIoFsy",
        "outputId": "2e1e5435-1ddd-476e-e939-0d0def654eec"
      },
      "outputs": [
        {
          "name": "stdout",
          "output_type": "stream",
          "text": [
            "enter a string ehjywfhsee egsrjgdrb\n"
          ]
        },
        {
          "output_type": "execute_result",
          "data": {
            "text/plain": [
              "20"
            ]
          },
          "metadata": {},
          "execution_count": 13
        }
      ],
      "source": [
        "#ques7: program that takes a string as input and returns its length\n",
        "a=input(\"enter a string \")\n",
        "len(a)\n"
      ]
    },
    {
      "cell_type": "code",
      "source": [
        "#ques8: program that concatenates two strings and returns its result\n",
        "b=input(\"enter first string \" )\n",
        "c=input(\"enter second string \" )\n",
        "print(b+c)"
      ],
      "metadata": {
        "colab": {
          "base_uri": "https://localhost:8080/"
        },
        "id": "WIZ29qzE0r9u",
        "outputId": "dfd28280-fdc8-40c2-9e48-6c16474b08f2"
      },
      "execution_count": 15,
      "outputs": [
        {
          "output_type": "stream",
          "name": "stdout",
          "text": [
            "enter first string hi \n",
            "enter second string  myself eren jaeger\n",
            "hi  myself eren jaeger\n"
          ]
        }
      ]
    },
    {
      "cell_type": "code",
      "source": [
        "#ques9: program to check of a substrings is present in a given string\n",
        "main_string=input(\"enter a main string \")\n",
        "sub_string=input(\"enter a substring \")\n",
        "print(sub_string in main_string)"
      ],
      "metadata": {
        "colab": {
          "base_uri": "https://localhost:8080/"
        },
        "id": "IvLkKUrV09TC",
        "outputId": "d52aba38-0275-4752-a0d3-9ed3fcdee52b"
      },
      "execution_count": 17,
      "outputs": [
        {
          "output_type": "stream",
          "name": "stdout",
          "text": [
            "enter a main string mereko ghar jana hai please muje chor do \n",
            "enter a substring ghar jana hai\n",
            "True\n"
          ]
        }
      ]
    },
    {
      "cell_type": "code",
      "source": [
        "#ques 10 : program that converts a string to uppercase\n",
        "a=input(\"enter a string \")\n",
        "a.upper()"
      ],
      "metadata": {
        "colab": {
          "base_uri": "https://localhost:8080/",
          "height": 53
        },
        "id": "4xj3-4xV1H25",
        "outputId": "7c173ad2-2087-455b-a8a3-6a3581b200ec"
      },
      "execution_count": 19,
      "outputs": [
        {
          "name": "stdout",
          "output_type": "stream",
          "text": [
            "enter a string hdewefhkwef\n"
          ]
        },
        {
          "output_type": "execute_result",
          "data": {
            "text/plain": [
              "'HDEWEFHKWEF'"
            ],
            "application/vnd.google.colaboratory.intrinsic+json": {
              "type": "string"
            }
          },
          "metadata": {},
          "execution_count": 19
        }
      ]
    }
  ]
}