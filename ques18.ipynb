{
  "nbformat": 4,
  "nbformat_minor": 0,
  "metadata": {
    "colab": {
      "provenance": [],
      "authorship_tag": "ABX9TyObgS7DIs862LrLMd2e12m4",
      "include_colab_link": true
    },
    "kernelspec": {
      "name": "python3",
      "display_name": "Python 3"
    },
    "language_info": {
      "name": "python"
    }
  },
  "cells": [
    {
      "cell_type": "markdown",
      "metadata": {
        "id": "view-in-github",
        "colab_type": "text"
      },
      "source": [
        "<a href=\"https://colab.research.google.com/github/riddhikaa/pyml_assignment1/blob/main/ques18.ipynb\" target=\"_parent\"><img src=\"https://colab.research.google.com/assets/colab-badge.svg\" alt=\"Open In Colab\"/></a>"
      ]
    },
    {
      "cell_type": "code",
      "execution_count": 3,
      "metadata": {
        "colab": {
          "base_uri": "https://localhost:8080/"
        },
        "id": "Zqe0weBSaLMY",
        "outputId": "c2e9bc65-849d-45c5-e94a-4ccbc12fc8fc"
      },
      "outputs": [
        {
          "output_type": "stream",
          "name": "stdout",
          "text": [
            "enter first word silent\n",
            "enter second word listen\n",
            "the given words are anagram\n"
          ]
        }
      ],
      "source": [
        "#program that checks if two strings are anagram of each other\n",
        "'''\n",
        "\n",
        "Anagrams are words or phrases formed\n",
        "by rearranging the letters of another word or\n",
        "phrase, using all the original letters exactly once.\n",
        "For example, \"listen\" can be rearranged to form \"silent.\"\n",
        "\n",
        "approach: use sorted() to check if all characters\n",
        "of strings match with each other\n",
        "\n",
        "'''\n",
        "\n",
        "str1=input(\"enter first word \").lower()\n",
        "str2=input(\"enter second word \").lower()\n",
        "if sorted(str1)==sorted(str2):\n",
        "  print(\"the given words are anagram\")\n",
        "else:\n",
        "  print(\" the given words are not anagram\")\n"
      ]
    }
  ]
}