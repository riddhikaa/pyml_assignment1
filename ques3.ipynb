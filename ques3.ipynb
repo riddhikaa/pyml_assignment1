{
  "nbformat": 4,
  "nbformat_minor": 0,
  "metadata": {
    "colab": {
      "provenance": [],
      "authorship_tag": "ABX9TyPVVNY24hvfVu3/WXFuW/Gx",
      "include_colab_link": true
    },
    "kernelspec": {
      "name": "python3",
      "display_name": "Python 3"
    },
    "language_info": {
      "name": "python"
    }
  },
  "cells": [
    {
      "cell_type": "markdown",
      "metadata": {
        "id": "view-in-github",
        "colab_type": "text"
      },
      "source": [
        "<a href=\"https://colab.research.google.com/github/riddhikaa/pyml_assignment1/blob/main/ques3.ipynb\" target=\"_parent\"><img src=\"https://colab.research.google.com/assets/colab-badge.svg\" alt=\"Open In Colab\"/></a>"
      ]
    },
    {
      "cell_type": "code",
      "execution_count": 5,
      "metadata": {
        "colab": {
          "base_uri": "https://localhost:8080/"
        },
        "id": "oI_8HiGIoFsy",
        "outputId": "3c8ae694-e466-4058-d7b8-8353e6eb629b"
      },
      "outputs": [
        {
          "name": "stdout",
          "output_type": "stream",
          "text": [
            "enter a number 5\n"
          ]
        },
        {
          "output_type": "execute_result",
          "data": {
            "text/plain": [
              "120"
            ]
          },
          "metadata": {},
          "execution_count": 5
        }
      ],
      "source": [
        "#program that calculates factorial of a number\n",
        "\n",
        "def factorial(num):\n",
        " if num==0 or num==1:\n",
        "  return 1\n",
        " else:\n",
        "  b=num*factorial(num-1)\n",
        "  return b\n",
        "\n",
        "a=int(input(\"enter a number \"))\n",
        "factorial(a)\n",
        "\n"
      ]
    }
  ]
}