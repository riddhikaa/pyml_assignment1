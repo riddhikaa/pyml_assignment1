{
  "nbformat": 4,
  "nbformat_minor": 0,
  "metadata": {
    "colab": {
      "provenance": [],
      "authorship_tag": "ABX9TyPhubTwOgCBzoXGoq//41nB",
      "include_colab_link": true
    },
    "kernelspec": {
      "name": "python3",
      "display_name": "Python 3"
    },
    "language_info": {
      "name": "python"
    }
  },
  "cells": [
    {
      "cell_type": "markdown",
      "metadata": {
        "id": "view-in-github",
        "colab_type": "text"
      },
      "source": [
        "<a href=\"https://colab.research.google.com/github/riddhikaa/pyml_assignment1/blob/main/ques14.ipynb\" target=\"_parent\"><img src=\"https://colab.research.google.com/assets/colab-badge.svg\" alt=\"Open In Colab\"/></a>"
      ]
    },
    {
      "cell_type": "code",
      "execution_count": 4,
      "metadata": {
        "colab": {
          "base_uri": "https://localhost:8080/"
        },
        "id": "gmW9u5wYB0CF",
        "outputId": "229b8e9d-5cd7-4e17-c359-acb6bf64d11f"
      },
      "outputs": [
        {
          "output_type": "stream",
          "name": "stdout",
          "text": [
            "hi my name is eren jaeger\n",
            "i want freedom hehe\n",
            "tatakae XD\n",
            "\n",
            "\n",
            "You entered:\n",
            "hi my name is eren jaeger\n",
            "i want freedom hehe\n",
            "tatakae XD\n"
          ]
        }
      ],
      "source": [
        "#program that reads multiple lines of input until user enters an empty line and then prints all the lines\n",
        "'''\n",
        "apporach:\n",
        "lines naam ki list bana di and then usme append karwa di strings\n",
        "tab jab tak khali line na enter ho\n",
        "'''\n",
        "lines=[]\n",
        "while True:\n",
        "          line = input()\n",
        "          if line == \"\":\n",
        "              break\n",
        "          lines.append(line)\n",
        "print(\"\\nYou entered:\")\n",
        "for line in lines:\n",
        "          print(line)"
      ]
    }
  ]
}